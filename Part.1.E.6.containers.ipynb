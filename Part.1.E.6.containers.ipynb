{
  "cells": [
    {
      "cell_type": "markdown",
      "metadata": {
        "toc-hr-collapsed": false,
        "id": "EARZNR484jqp"
      },
      "source": [
        "# 数据容器"
      ]
    },
    {
      "cell_type": "markdown",
      "metadata": {
        "id": "BfPmXPmj4jqr"
      },
      "source": [
        "在 Python 中，有个**数据容器**（Container）的概念。\n",
        "\n",
        "其中包括**字符串**、由 `range()` 函数生成的**等差数列**、**列表**（List）、**元组**（Tuple）、**集合**（Set）、**字典**（Dictionary）。\n",
        "\n",
        "这些容器，各有各的用处。其中又分为*可变*容器（Mutable）和*不可变*容器（Immutable）。可变的有列表、集合、字典；不可变的有字符串、`range()` 生成的等差数列、元组。集合，又分为 *Set* 和 *Frozen Set*；其中，Set 是*可变的*，Frozen Set 是*不可变的*。\n",
        "\n",
        "字符串、由 `range()` 函数生成的等差数列、列表、元组是**有序类型**（Sequence Type），而集合与字典是*无序*的。\n",
        "\n",
        "![](https://github.com/moonpoint1990/the-craft-of-selfteaching/blob/master/images/python-containers-final.png?raw=1)\n",
        "\n",
        "另外，集合没有*重合*元素。"
      ]
    },
    {
      "cell_type": "markdown",
      "metadata": {
        "id": "mBozK0Xa4jqr"
      },
      "source": [
        "## 迭代（Iterate）"
      ]
    },
    {
      "cell_type": "markdown",
      "metadata": {
        "id": "Wauf8LUz4jqr"
      },
      "source": [
        "数据容器里的元素是可以被**迭代的**（Iterable），它们其中包含的元素，可以被逐个访问，以便被处理。\n",
        "\n",
        "对于数据容器，有一个操作符，`in`，用来判断某个元素是否属于某个容器。\n",
        "\n",
        "由于数据容器的可迭代性，再加上这个操作符 `in`，在 Python 语言里写循环格外容易且方便（以字符串这个字符的容器作为例子）："
      ]
    },
    {
      "cell_type": "code",
      "execution_count": null,
      "metadata": {
        "id": "YlVwctQ64jqs",
        "outputId": "f2866c69-6863-4af8-d2b2-a4bada24e0d6"
      },
      "outputs": [
        {
          "name": "stdout",
          "output_type": "stream",
          "text": [
            "P\n",
            "y\n",
            "t\n",
            "h\n",
            "o\n",
            "n\n"
          ]
        }
      ],
      "source": [
        "for c in 'Python':\n",
        "  print(c)"
      ]
    },
    {
      "cell_type": "markdown",
      "metadata": {
        "id": "LPOYTi5p4jqt"
      },
      "source": [
        "在 Python 出现之前，想要完成这样一个访问字符串中的每一个字符的循环，大抵上应该是这样的（比如 C 语言）：\n",
        "\n",
        "``` C\n",
        "# Written in C\n",
        "char *string;\n",
        "\n",
        "scanf(\"%s\",string);\n",
        "int i=strlen(string);\n",
        "int k = 0;\n",
        "while(k<i){    \n",
        "      printf(\"%c\", string[k]);\n",
        "      k++;    \n",
        "  }\n",
        " ```\n",
        "\n",
        " 在 Python 中，简单的 for 循环，只需要指定一个次数就可以了，因为有 range() 这个函数："
      ]
    },
    {
      "cell_type": "code",
      "execution_count": null,
      "metadata": {
        "id": "iw-4IcR04jqt",
        "outputId": "a649efb6-09c2-4dac-c43d-d25689eaf253"
      },
      "outputs": [
        {
          "name": "stdout",
          "output_type": "stream",
          "text": [
            "0\n",
            "1\n",
            "2\n",
            "3\n",
            "4\n",
            "5\n",
            "6\n",
            "7\n",
            "8\n",
            "9\n"
          ]
        }
      ],
      "source": [
        "for i in range(10):\n",
        "  print(i)"
      ]
    },
    {
      "cell_type": "markdown",
      "metadata": {
        "id": "OOt8U_1T4jqt"
      },
      "source": [
        "即便是用比 C 更为 “现代” 一点的 JavaScript，也大抵上应该是这样的：\n",
        "\n",
        "```c\n",
        "var i;\n",
        "for (i = 0; i < 10; i++) {\n",
        "  console.log(i)\n",
        "}\n",
        "```"
      ]
    },
    {
      "cell_type": "markdown",
      "metadata": {
        "id": "hEj53NWn4jqt"
      },
      "source": [
        "当然，有时候我们也需要比较复杂的计数器，不过，Python 也不只有 `for` 循环，还有 `while` 循环，在必要的时候可以写复杂的计数器。"
      ]
    },
    {
      "cell_type": "markdown",
      "metadata": {
        "toc-hr-collapsed": true,
        "id": "DvcLTA1p4jqt"
      },
      "source": [
        "## 列表（List）"
      ]
    },
    {
      "cell_type": "markdown",
      "metadata": {
        "id": "yw6_UKUo4jqu"
      },
      "source": [
        "列表和字符串一样，是个*有序类型*（Sequence Type）的容器，其中包含着有索引编号的元素。\n",
        "\n",
        "列表中的元素可以是不同类型。不过，在解决现实问题的时候，我们总是倾向于创建由同一个类型的数据构成的列表。遇到由不同类型数据构成的列表，我们更可能做的是想办法把不同类型的数据分门别类地拆分出来，整理清楚 —— 这种工作甚至有个专门的名称与之关联：*数据清洗*。"
      ]
    },
    {
      "cell_type": "markdown",
      "metadata": {
        "id": "-JX3zfEs4jqu"
      },
      "source": [
        "### 列表的生成"
      ]
    },
    {
      "cell_type": "markdown",
      "metadata": {
        "id": "sMf2NGa24jqu"
      },
      "source": [
        "生成一个列表，有以下几种方式：\n",
        "\n",
        "\n",
        "```python\n",
        "a_list = []\n",
        "b_list = [1, 2, 3]\n",
        "list(), or list(iterable)            # 这是 Type Casting\n",
        "[(expression with x) for x in iterable]\n",
        "```"
      ]
    },
    {
      "cell_type": "code",
      "execution_count": null,
      "metadata": {
        "id": "1FKLzOtm4jqu",
        "outputId": "95f51ee9-8b95-4cf9-a952-ad247fa21a46"
      },
      "outputs": [
        {
          "name": "stdout",
          "output_type": "stream",
          "text": [
            "[1, 2] has a length of 2.\n",
            "[1, 2, 3, 4, 5, 6, 7, 8, 11] has a length of 9.\n",
            "[1, 2, 4, 8, 16, 32, 64, 128] has a length of 8.\n"
          ]
        }
      ],
      "source": [
        "a_list = []\n",
        "a_list.append(1)\n",
        "a_list.append(2)\n",
        "print(a_list, f'has a length of {len(a_list)}.')\n",
        "\n",
        "#range() 返回的不是 list，需要用 list() 转换，否则也没办法调用 .append()\n",
        "b_list = list(range(1, 9))\n",
        "b_list.append(11)\n",
        "print(b_list, f'has a length of {len(b_list)}.')\n",
        "\n",
        "\n",
        "c_list = [2**x for x in range(8)]\n",
        "print(c_list, f'has a length of {len(c_list)}.')"
      ]
    },
    {
      "cell_type": "markdown",
      "metadata": {
        "id": "_YVWubaO4jqu"
      },
      "source": [
        "这最后一种方式颇为神奇：\n",
        "\n",
        "```python\n",
        "[2**x for x in range(8)]\n",
        "```\n",
        "\n",
        "这种做法，叫做 **[List Comprehension](https://docs.python.org/3.7/tutorial/datastructures.html#tut-listcomps)**。\n",
        "\n",
        "*Comprehend* 这个词的意思除了 “理解” 之外，还有另外一个意思，就是 “包括、囊括” —— 这样的话，你就大概能理解这种做法为什么被称作 *List Comprehension* 了。中文翻译中，怎么翻译的都有，“列表生成器”、“列表生成式” 等等，都挺好。但是，被翻译成 “列表解析器”，就不太好了，给人的感觉是操作反了……\n",
        "\n",
        "List comprehension 可以嵌套使用 `for`，甚至可以加上条件 `if`。官方文档里有个例子，是用来把两个元素并不完全相同的列表去同后拼成一个列表（下面稍作了改写）：\n"
      ]
    },
    {
      "cell_type": "code",
      "execution_count": null,
      "metadata": {
        "id": "zVLKxCBN4jqu",
        "outputId": "e33095a7-3c7a-428f-a0f4-9b0871c7c3fd"
      },
      "outputs": [
        {
          "name": "stdout",
          "output_type": "stream",
          "text": [
            "a_list comprehends 10 random numbers: [52, 34, 7, 96, 33, 79, 95, 18, 37, 46]\n",
            "... and it has 5 even numbers: [52, 34, 96, 18, 46]\n"
          ]
        }
      ],
      "source": [
        "import random\n",
        "\n",
        "n = 10\n",
        "\n",
        "# 生成一个 n 个元素的序列，每个元素是 1~100 之间的随机数\n",
        "a_list = [random.randrange(1, 100) for i in range(n)]\n",
        "print(f'a_list comprehends {len(a_list)} random numbers: {a_list}')\n",
        "\n",
        "# 从 a_list 里把偶数都挑出来\n",
        "b_list = [x for x in a_list if x % 2 == 0]\n",
        "print(f'... and it has {len(b_list)} even numbers: {b_list}')"
      ]
    },
    {
      "cell_type": "markdown",
      "metadata": {
        "id": "1lv_dM2F4jqu"
      },
      "source": [
        "### 列表的操作符"
      ]
    },
    {
      "cell_type": "markdown",
      "metadata": {
        "id": "euRGBGCN4jqu"
      },
      "source": [
        "列表的操作符和字符串一样，因为它们都是有序容器。列表的操作符有：\n",
        "\n",
        "> * 拼接：`+`（与字符串不一样的地方是，不能用空格 `' '` 了）\n",
        "> * 复制：`*`\n",
        "> * 逻辑运算：`in` 和 `not in`，`<`、`<=`、`>`、`>=`、`!=`、`==`\n",
        "\n",
        "而后两个列表也和两个字符串一样，可以被比较，即，可以进行逻辑运算；比较方式也跟字符串一样，从两个列表各自的第一个元素开始逐个比较，“一旦决出胜负马上停止”："
      ]
    },
    {
      "cell_type": "code",
      "execution_count": null,
      "metadata": {
        "id": "klQEJKM44jqu",
        "outputId": "b4e71bfb-b4a0-40ec-c635-f1ba74b6f503"
      },
      "outputs": [
        {
          "data": {
            "text/plain": [
              "[1, 2, 3, 4, 5, 6, 4, 5, 6, 4, 5, 6]"
            ]
          },
          "execution_count": 2,
          "metadata": {},
          "output_type": "execute_result"
        },
        {
          "data": {
            "text/plain": [
              "True"
            ]
          },
          "execution_count": 2,
          "metadata": {},
          "output_type": "execute_result"
        },
        {
          "data": {
            "text/plain": [
              "False"
            ]
          },
          "execution_count": 2,
          "metadata": {},
          "output_type": "execute_result"
        }
      ],
      "source": [
        "from IPython.core.interactiveshell import InteractiveShell\n",
        "InteractiveShell.ast_node_interactivity = \"all\"\n",
        "\n",
        "a_list = [1, 2, 3]\n",
        "b_list = [4, 5, 6]\n",
        "c_list = a_list + b_list * 3\n",
        "c_list\n",
        "7 not in c_list\n",
        "a_list > b_list"
      ]
    },
    {
      "cell_type": "markdown",
      "metadata": {
        "id": "HPhz4t_E4jqv"
      },
      "source": [
        "### 根据索引提取列表元素"
      ]
    },
    {
      "cell_type": "markdown",
      "metadata": {
        "id": "bMMx6lRF4jqv"
      },
      "source": [
        "列表当然也可以根据索引操作，但由于列表是可变序列，所以，不仅可以提取，还可以删除，甚至替换。"
      ]
    },
    {
      "cell_type": "code",
      "execution_count": null,
      "metadata": {
        "id": "drvT821M4jqv",
        "outputId": "55df9343-c6cb-42dd-bbc1-69bfcbc5b874"
      },
      "outputs": [
        {
          "name": "stdout",
          "output_type": "stream",
          "text": [
            "[77, 66, 79]\n",
            "[77, 66, 79, 'L', 'Z', 'R', 77, 66, 79, 77, 66, 79]\n",
            "\n",
            "L\n",
            "[77, 66, 79, 'L', 'Z', 'R', 77, 66, 79, 77, 66, 79]\n",
            "['R', 77, 66, 79, 77, 66, 79]\n",
            "[77, 66, 79]\n",
            "[79, 'L', 'Z', 'R']\n",
            "\n",
            "[77, 66, 79, 'Z', 'R', 77, 66, 79, 77, 66, 79]\n",
            "[77, 66, 79, 'Z', 'R', 77, 66, 79]\n",
            "\n",
            "[77, 'a', 79, 2, 'R', 77, 66, 79]\n"
          ]
        }
      ],
      "source": [
        "import random\n",
        "n = 3\n",
        "a_list = [random.randrange(65, 91) for i in range(n)]\n",
        "b_list = [chr(random.randrange(65, 91)) for i in range(n)]\n",
        "print(a_list)\n",
        "c_list = a_list + b_list + a_list * 2\n",
        "print(c_list)\n",
        "\n",
        "print()\n",
        "# 根据索引提取（Slicing）\n",
        "print(c_list[3])        # 返回索引值为 3 的元素值\n",
        "print(c_list[:])        # 相当于 c_list，返回整个列表\n",
        "print(c_list[5:])       # 从索引为 5 的值开始直到末尾\n",
        "print(c_list[:3])       # 从索引 0 开始，直到索引 3 之前（不包括 3）\n",
        "print(c_list[2:6])      # 从索引 2 开始，直到索引 6 之前（不包括 6）\n",
        "\n",
        "print()\n",
        "# 根据索引删除\n",
        "del c_list[3]\n",
        "print(c_list)           # del 是个命令，del c_list[3] 是一个语句；不能这么写：print(del c_list[3])\n",
        "del c_list[5:8]\n",
        "print(c_list)\n",
        "\n",
        "print()\n",
        "# 根据索引替换\n",
        "c_list[1:5:2] = ['a', 2]  # s[start:stop:step] = t，跟 range 的三个参数类似；\n",
        "                         # len(t) = len([start:stop:step]) 必须为真\n",
        "print(c_list)"
      ]
    },
    {
      "cell_type": "markdown",
      "metadata": {
        "id": "ZnP4Mb3V4jqv"
      },
      "source": [
        "需要注意的地方是：**列表**（List）是可变序列，而**字符串**（str）是不可变序列，所以，对字符串来说，虽然也可以根据索引提取，但没办法根据索引删除或者替换。"
      ]
    },
    {
      "cell_type": "code",
      "execution_count": null,
      "metadata": {
        "id": "6Rpi-yF94jqv",
        "outputId": "52b8962e-d400-404b-e3ec-0972b9c2b9bf"
      },
      "outputs": [
        {
          "name": "stdout",
          "output_type": "stream",
          "text": [
            "tho\n"
          ]
        },
        {
          "ename": "TypeError",
          "evalue": "'str' object doesn't support item deletion",
          "output_type": "error",
          "traceback": [
            "\u001b[0;31m---------------------------------------------------------------------------\u001b[0m",
            "\u001b[0;31mTypeError\u001b[0m                                 Traceback (most recent call last)",
            "\u001b[0;32m<ipython-input-7-c9c999709965>\u001b[0m in \u001b[0;36m<module>\u001b[0;34m\u001b[0m\n\u001b[1;32m      1\u001b[0m \u001b[0ms\u001b[0m \u001b[0;34m=\u001b[0m \u001b[0;34m'Python'\u001b[0m\u001b[0;34m[\u001b[0m\u001b[0;36m2\u001b[0m\u001b[0;34m:\u001b[0m\u001b[0;36m5\u001b[0m\u001b[0;34m]\u001b[0m\u001b[0;34m\u001b[0m\u001b[0;34m\u001b[0m\u001b[0m\n\u001b[1;32m      2\u001b[0m \u001b[0mprint\u001b[0m\u001b[0;34m(\u001b[0m\u001b[0ms\u001b[0m\u001b[0;34m)\u001b[0m\u001b[0;34m\u001b[0m\u001b[0;34m\u001b[0m\u001b[0m\n\u001b[0;32m----> 3\u001b[0;31m \u001b[0;32mdel\u001b[0m \u001b[0ms\u001b[0m\u001b[0;34m[\u001b[0m\u001b[0;36m3\u001b[0m\u001b[0;34m]\u001b[0m  \u001b[0;31m# 这一句会报错\u001b[0m\u001b[0;34m\u001b[0m\u001b[0;34m\u001b[0m\u001b[0m\n\u001b[0m",
            "\u001b[0;31mTypeError\u001b[0m: 'str' object doesn't support item deletion"
          ]
        }
      ],
      "source": [
        "s = 'Python'[2:5]\n",
        "print(s)\n",
        "del s[2]  # 这一句会报错"
      ]
    },
    {
      "cell_type": "markdown",
      "metadata": {
        "id": "jErH2Y_24jqv"
      },
      "source": [
        "之前提到过：\n",
        "\n",
        "> 字符串常量（String Literal）是不可变有序容器，所以，虽然字符串也有一些 Methods 可用，但那些 Methods 都不改变它们自身，而是在操作后返回一个值给另外一个变量。\n",
        "\n",
        "而对于列表这种*可变容器*，我们可以对它进行操作，结果是*它本身被改变*了。"
      ]
    },
    {
      "cell_type": "code",
      "execution_count": null,
      "metadata": {
        "id": "_gdWwrEa4jqv",
        "outputId": "58d2d799-d8fc-4cb3-90f0-36e17b1804d1"
      },
      "outputs": [
        {
          "name": "stdout",
          "output_type": "stream",
          "text": [
            "Python\n",
            "['P', 'y', 't', 'h', 'o', 'n']\n",
            "['P', 'y', 'h', 'o', 'n']\n"
          ]
        }
      ],
      "source": [
        "s = 'Python'\n",
        "L = list(s)\n",
        "print(s)\n",
        "print(L)\n",
        "del L[2]\n",
        "print(L) # 用 del 对 L 操作之后，L 本身少了 1 个元素"
      ]
    },
    {
      "cell_type": "markdown",
      "metadata": {
        "id": "DIr8WBmX4jqv"
      },
      "source": [
        "### 列表可用的内建函数"
      ]
    },
    {
      "cell_type": "markdown",
      "metadata": {
        "id": "72D71Ogn4jqv"
      },
      "source": [
        "列表和字符串都是容器，它们可使用的内建函数也其实都是一样的：\n",
        "\n",
        "> * `len()`\n",
        "> * `max()`\n",
        "> * `min()`"
      ]
    },
    {
      "cell_type": "code",
      "execution_count": null,
      "metadata": {
        "id": "s2T6ZRRV4jqv",
        "outputId": "f44848fe-06aa-4e56-90b2-1ac7eb5632b2"
      },
      "outputs": [
        {
          "name": "stdout",
          "output_type": "stream",
          "text": [
            "[89, 84, 85]\n",
            "['X', 'B', 'X']\n",
            "[89, 84, 85, 'X', 'B', 'X', 89, 84, 85, 89, 84, 85]\n",
            "[89, 84, 85, 89, 84, 85, 89, 84, 85]\n",
            "12\n",
            "X\n",
            "B\n",
            "False\n"
          ]
        }
      ],
      "source": [
        "import random\n",
        "n = 3\n",
        "\n",
        "# 生成 3 个随机数，构成一个列表\n",
        "a_list = [random.randrange(65, 91) for i in range(n)]\n",
        "b_list = [chr(random.randrange(65, 91)) for i in range(n)]\n",
        "print(a_list)\n",
        "print(b_list)\n",
        "\n",
        "# 列表可以使用操作符 + 和*\n",
        "c_list = a_list + b_list + a_list * 2\n",
        "print(c_list)\n",
        "\n",
        "a_list *= 3\n",
        "print(a_list)\n",
        "\n",
        "# 内建函数操作 len()、max()、min()\n",
        "print(len(c_list))\n",
        "print(max(b_list)) # 内建函数内部做了异常处理，可以在字符之间或者数字之间进行比较 —— 初学者最讨厌这种事情了……\n",
        "print(min(b_list)) # 注意，max() 和 min() 应用的是 b_list, len() 应用的是 c_list —— 请自行找到对应的 list 进行分析。\n",
        "\n",
        "print('X' not in b_list)"
      ]
    },
    {
      "cell_type": "markdown",
      "metadata": {
        "id": "Jej5zXWd4jqw"
      },
      "source": [
        "### Methods"
      ]
    },
    {
      "cell_type": "markdown",
      "metadata": {
        "id": "9UGs-pRm4jqw"
      },
      "source": [
        "字符串常量和 range() 都是不可变的（Immutable）；而列表则是**可变类型**（Mutable type），所以，它最起码可以被排序 —— 使用 `sort()` Method："
      ]
    },
    {
      "cell_type": "code",
      "execution_count": null,
      "metadata": {
        "id": "j-Hl4W0X4jqw",
        "outputId": "4cfd9ade-5967-4180-d954-218e5f1f7167"
      },
      "outputs": [
        {
          "name": "stdout",
          "output_type": "stream",
          "text": [
            "a_list comprehends 10 random numbers:\n",
            " [98, 9, 95, 15, 80, 70, 98, 82, 88, 46]\n",
            "the list sorted:\n",
            " [9, 15, 46, 70, 80, 82, 88, 95, 98, 98]\n",
            "the list sorted reversely:\n",
            " [98, 98, 95, 88, 82, 80, 70, 46, 15, 9]\n"
          ]
        }
      ],
      "source": [
        "import random\n",
        "n = 10\n",
        "a_list = [random.randrange(1, 100) for i in range(n)]\n",
        "print(f'a_list comprehends {len(a_list)} random numbers:\\n', a_list)\n",
        "\n",
        "a_list.sort()\n",
        "print('the list sorted:\\n', a_list)\n",
        "\n",
        "a_list.sort(reverse=True) #reverse 参数，默认是 False\n",
        "print('the list sorted reversely:\\n', a_list)"
      ]
    },
    {
      "cell_type": "markdown",
      "metadata": {
        "id": "KQgkLpvx4jqw"
      },
      "source": [
        "如果列表中的元素全都是由字符串构成的，当然也可以排序："
      ]
    },
    {
      "cell_type": "code",
      "execution_count": null,
      "metadata": {
        "id": "OxJz5A5Z4jqw",
        "outputId": "74dac79f-07c7-4a49-cb15-01aa0236ed4f"
      },
      "outputs": [
        {
          "name": "stdout",
          "output_type": "stream",
          "text": [
            "a_list comprehends 10 random string elements:\n",
            " ['B', 'U', 'H', 'D', 'C', 'V', 'V', 'Q', 'U', 'P']\n",
            "the list sorted:\n",
            " ['B', 'C', 'D', 'H', 'P', 'Q', 'U', 'U', 'V', 'V']\n",
            "the list sorted reversely:\n",
            " ['V', 'V', 'U', 'U', 'Q', 'P', 'H', 'D', 'C', 'B']\n",
            "\n",
            "b_list comprehends 10 random string elements:\n",
            " ['Nl', 'Mh', 'Ta', 'By', 'Ul', 'Nc', 'Gu', 'Rp', 'Pv', 'Bu']\n",
            "the sorted:\n",
            " ['Bu', 'By', 'Gu', 'Mh', 'Nc', 'Nl', 'Pv', 'Rp', 'Ta', 'Ul']\n",
            "the sorted reversely:\n",
            " ['Ul', 'Ta', 'Rp', 'Pv', 'Nl', 'Nc', 'Mh', 'Gu', 'By', 'Bu']\n"
          ]
        }
      ],
      "source": [
        "import random\n",
        "n = 10\n",
        "\n",
        "a_list = [chr(random.randrange(65, 91)) for i in range(n)]\n",
        "# chr() 函数会返回指定 ascii 码的字符，ord('A') 是 65\n",
        "print(f'a_list comprehends {len(a_list)} random string elements:\\n', a_list)\n",
        "\n",
        "a_list.sort()\n",
        "print('the list sorted:\\n', a_list)\n",
        "\n",
        "a_list.sort(reverse=True) #reverse 参数，默认是 False\n",
        "print('the list sorted reversely:\\n', a_list)\n",
        "\n",
        "print()\n",
        "\n",
        "b_list = [chr(random.randrange(65, 91)) +\\\n",
        "            chr(random.randrange(97, 123))\\\n",
        "            for i in range(n)]\n",
        "# 可以在行末加上 \\ 符号，表示 “该行未完待续……”\n",
        "\n",
        "print(f'b_list comprehends {len(b_list)} random string elements:\\n', b_list)\n",
        "\n",
        "b_list.sort()\n",
        "print('the sorted:\\n', b_list)\n",
        "\n",
        "b_list.sort(key=str.lower, reverse=True)\n",
        "# key 参数，默认是 None\n",
        "# key=str.lower 的意思是，在比较的时候，先全都转换成小写再比较……\n",
        "# —— 但并不改变原有值\n",
        "print('the sorted reversely:\\n', b_list)"
      ]
    },
    {
      "cell_type": "markdown",
      "metadata": {
        "id": "kU1BeIvB4jqw"
      },
      "source": [
        "**注意**：不能乱比较…… 被比较的元素应该是同一类型 —— 所以，不是由同一种数据类型元素构成的列表，不能使用 `sort()` Method。下面的代码会报错："
      ]
    },
    {
      "cell_type": "code",
      "execution_count": null,
      "metadata": {
        "id": "f9iAsqjm4jqw",
        "outputId": "0ab14a68-dded-4ac9-b907-37096067682b"
      },
      "outputs": [
        {
          "ename": "TypeError",
          "evalue": "'<' not supported between instances of 'str' and 'int'",
          "output_type": "error",
          "traceback": [
            "\u001b[0;31m---------------------------------------------------------------------------\u001b[0m",
            "\u001b[0;31mTypeError\u001b[0m                                 Traceback (most recent call last)",
            "\u001b[0;32m<ipython-input-12-acb9480a455d>\u001b[0m in \u001b[0;36m<module>\u001b[0;34m\u001b[0m\n\u001b[1;32m      1\u001b[0m \u001b[0ma_list\u001b[0m \u001b[0;34m=\u001b[0m \u001b[0;34m[\u001b[0m\u001b[0;36m1\u001b[0m\u001b[0;34m,\u001b[0m \u001b[0;34m'a'\u001b[0m\u001b[0;34m,\u001b[0m \u001b[0;34m'c'\u001b[0m\u001b[0;34m]\u001b[0m\u001b[0;34m\u001b[0m\u001b[0;34m\u001b[0m\u001b[0m\n\u001b[0;32m----> 2\u001b[0;31m \u001b[0ma_list\u001b[0m \u001b[0;34m=\u001b[0m \u001b[0ma_list\u001b[0m\u001b[0;34m.\u001b[0m\u001b[0msort\u001b[0m\u001b[0;34m(\u001b[0m\u001b[0;34m)\u001b[0m \u001b[0;31m# 这一句会报错\u001b[0m\u001b[0;34m\u001b[0m\u001b[0;34m\u001b[0m\u001b[0m\n\u001b[0m",
            "\u001b[0;31mTypeError\u001b[0m: '<' not supported between instances of 'str' and 'int'"
          ]
        }
      ],
      "source": [
        "a_list = [1, 'a', 'c']\n",
        "a_list = a_list.sort() # 这一句会报错"
      ]
    },
    {
      "cell_type": "markdown",
      "metadata": {
        "id": "k8cy0qRq4jqw"
      },
      "source": [
        "**可变序列**还有一系列可用的 **Methods**：`a.append()`，`a.clear()`，`a.copy()`，`a.extend(t)`，`a.insert(i，x)`，`a.pop([i])`，`a.remove(x)`，`a.reverse()`……"
      ]
    },
    {
      "cell_type": "code",
      "execution_count": null,
      "metadata": {
        "id": "ZZEKDNSk4jqw",
        "outputId": "27397a49-d83c-4dc2-bebb-2da32d7240a4"
      },
      "outputs": [
        {
          "name": "stdout",
          "output_type": "stream",
          "text": [
            "[90, 88, 73]\n",
            "[90, 88, 73, 'T', 'N', 'Y', 90, 88, 73, 90, 88, 73]\n",
            "[90, 88, 73, 'T', 'N', 'Y', 90, 88, 73, 90, 88, 73, '100']\n",
            "\n",
            "[90, 88, 73]\n",
            "[]\n",
            "\n",
            "[90, 88, 73, 'T', 'N', 'Y', 90, 88, 73, 90, 88, 73, '100']\n",
            "[90, 88, 73, 'T', 'N', 'Y', 73, 90, 88, 73, '100']\n",
            "[90, 88, 73, 'T', 'N', 'Y', 90, 88, 73, 90, 88, 73, '100']\n",
            "\n",
            "[90, 88, 73, 'T', 'N', 'Y', 88, 73, '100']\n",
            "[90, 88, 73, 'T', 'N', 'Y', 88, 73, '100']\n",
            "\n",
            "[]\n",
            "[90, 88, 73, 'T', 'N', 'Y', 90, 88, 73, 90, 88, 73, '100']\n",
            "\n",
            "[90, 88, 73, 'T', 'N', 'Y', 90, 88, 73, 90, 88, 73, '100']\n",
            "[90, 'example', 88, 'example', 73, 'T', 'N', 'Y', 90, 88, 73, 90, 88, 73, '100']\n",
            "\n",
            "[90, 'example', 88, 'example', 73, 'T', 'N', 'Y', 90, 88, 73, 90, 88, 73, '100']\n",
            "['100', 73, 88, 90, 73, 88, 90, 'Y', 'N', 'T', 73, 'example', 88, 'example', 90]\n",
            "None\n"
          ]
        }
      ],
      "source": [
        "import random\n",
        "n = 3\n",
        "a_list = [random.randrange(65, 91) for i in range(n)]\n",
        "b_list = [chr(random.randrange(65, 91)) for i in range(n)]\n",
        "print(a_list)\n",
        "c_list = a_list + b_list + a_list * 2\n",
        "print(c_list)\n",
        "\n",
        "# 在末尾追加一个元素\n",
        "c_list.append('100')\n",
        "print(c_list)\n",
        "\n",
        "# 清空序列\n",
        "print()\n",
        "print(a_list)\n",
        "a_list.clear()\n",
        "print(a_list)\n",
        "\n",
        "print()\n",
        "# 拷贝一个列表\n",
        "d_list = c_list.copy()\n",
        "print(d_list)\n",
        "del d_list[6:8]\n",
        "print(d_list)\n",
        "print(c_list)             # 对一个拷贝操作，不会更改 “原件”\n",
        "\n",
        "print()\n",
        "# 演示拷贝 .copy() 与赋值 = 的不同\n",
        "e_list = d_list\n",
        "del e_list[6:8]\n",
        "print(e_list)\n",
        "print(d_list)             # 对 e_list 操作，相等于对 d_list 操作\n",
        "\n",
        "# 在末尾追加一个列表\n",
        "print()\n",
        "print(a_list)\n",
        "a_list.extend(c_list)      # 相当于 a_list += c_list\n",
        "print(a_list)\n",
        "\n",
        "# 在某索引位置插入一个元素\n",
        "print()\n",
        "print(a_list)\n",
        "a_list.insert(1, 'example')   # 在索引 1 的位置插入 'example'\n",
        "a_list.insert(3, 'example')   # 在索引 3 的位置插入 'example'；\n",
        "print(a_list)\n",
        "\n",
        "# 排序\n",
        "\n",
        "# a_list.sort() 这一句会出错，因为当前列表中的元素，是 int 和 str 混合的。\n",
        "\n",
        "print()\n",
        "print(a_list)\n",
        "a_list.reverse()\n",
        "print(a_list)\n",
        "x = a_list.reverse() # reverse() 只对当前序列操作，并不返回一个逆序列表；返回值是 None\n",
        "print(x)"
      ]
    },
    {
      "cell_type": "markdown",
      "metadata": {
        "id": "bSf9RLnV4jqw"
      },
      "source": [
        "有一个命令、两个 Methods 与删除单个元素相关联，`del`，`a.pop([i])`，`a.remove(x)`，请注意它们之间的区别。"
      ]
    },
    {
      "cell_type": "code",
      "execution_count": null,
      "metadata": {
        "id": "Pe_rV43V4jqz",
        "outputId": "2bf7a349-7ccd-4afc-9f5a-4515f4ca3752"
      },
      "outputs": [
        {
          "name": "stdout",
          "output_type": "stream",
          "text": [
            "[88, 84, 69]\n",
            "\n",
            "\n",
            "[88, 'example', 84, 69]\n",
            "[88, 84, 69]\n",
            "\n",
            "[88, 84, 69]\n",
            "[88, 84]\n",
            "69\n",
            "\n",
            "[88, 84, 'example', 'example']\n",
            "[88, 84, 'example']\n",
            "\n",
            "None\n",
            "[88, 84]\n"
          ]
        }
      ],
      "source": [
        "import random\n",
        "n = 3\n",
        "a_list = [random.randrange(65, 91) for i in range(n)]\n",
        "print(a_list)\n",
        "\n",
        "# 插入\n",
        "print()\n",
        "a_list.insert(1, 'example')   # 在索引 1 的位置插入 'example'\n",
        "\n",
        "# 删除\n",
        "print()\n",
        "print(a_list)\n",
        "a_list.remove('example')      # 去除 'example' 这个元素，如果有多个 'example'，只删除第一个\n",
        "print(a_list)\n",
        "\n",
        "# pop() 删除并返回被删除的值\n",
        "\n",
        "print()\n",
        "print(a_list)\n",
        "p = a_list.pop(2)      # 去除索引为 2 的元素，且返回元素的值，赋值给 p\n",
        "print(a_list)\n",
        "print(p)\n",
        "\n",
        "# pop() 与 del，或者 remove() 的区别\n",
        "print()\n",
        "a_list.insert(2, 'example')\n",
        "a_list.insert(2, 'example')\n",
        "print(a_list)\n",
        "del a_list[2]\n",
        "print(a_list)\n",
        "\n",
        "print()\n",
        "print(a_list.remove('example')) # a_list.remove() 这个 Method 的返回值是 None\n",
        "print(a_list)"
      ]
    },
    {
      "cell_type": "markdown",
      "metadata": {
        "id": "CPDOsRKg4jqz"
      },
      "source": [
        "### 小结"
      ]
    },
    {
      "cell_type": "markdown",
      "metadata": {
        "id": "UM8g6Bly4jqz"
      },
      "source": [
        "看起来是个新概念，例子全部读完也很是要花上一段时间，然而，从操作上来看，操作列表和操作字符串的差异并不大，重点在于一个是 Immutable，另外一个是 Mutable，所以，例如像 `a.sort()`，`a.remove()` 这样的事，列表能做，字符串不能做 —— 字符串也可以排序，但那是排序之后返回给另外一个变量；而列表可以直接改变自身……\n",
        "\n",
        "而整理成表格之后呢，理解与记忆真的是零压力：\n",
        "\n",
        "![](https://github.com/moonpoint1990/the-craft-of-selfteaching/blob/master/images/list-concepts.png?raw=1)"
      ]
    },
    {
      "cell_type": "markdown",
      "metadata": {
        "id": "Qy9BbrOX4jqz"
      },
      "source": [
        "## 元组（Tuple）"
      ]
    },
    {
      "cell_type": "markdown",
      "metadata": {
        "id": "nPLnhzIq4jqz"
      },
      "source": [
        "在完整掌握列表的创建与操作之后，再理解元组（Tuple）就容易了，因为它们之间的主要区别只有两个：\n",
        "\n",
        "> * List 是*可变*有序容器，Tuple 是*不可变*有序容器。\n",
        "> * List 用*方括号*标识 `[]`，Tuple 用*圆括号* 标识 `()`。\n",
        "\n",
        "创建一个元组的时候，用圆括号：\n",
        "\n",
        "```python\n",
        "a = ()\n",
        "```\n",
        "\n",
        "这样就创建了一个空元组。\n",
        "\n",
        "多个元素之间，用 `,` 分离。\n",
        "\n",
        "创建一个含多个元素的元组，可以省略这个括号。"
      ]
    },
    {
      "cell_type": "code",
      "execution_count": null,
      "metadata": {
        "id": "xJmoQrC64jqz",
        "outputId": "859f09fa-4062-42fb-85aa-b7a5c1ca6304"
      },
      "outputs": [
        {
          "name": "stdout",
          "output_type": "stream",
          "text": [
            "(1, 2, 3)\n",
            "(1, 2, 3)\n"
          ]
        },
        {
          "data": {
            "text/plain": [
              "True"
            ]
          },
          "execution_count": 15,
          "metadata": {},
          "output_type": "execute_result"
        }
      ],
      "source": [
        "a = 1, 2, 3   # 不建议这种写法\n",
        "b = (1, 2, 3) # 在创建元组的时候建议永远不省略圆括号……\n",
        "print(a)\n",
        "print(b)\n",
        "a == b"
      ]
    },
    {
      "cell_type": "markdown",
      "metadata": {
        "id": "7HgzwrXa4jqz"
      },
      "source": [
        "**注意**：创建单个元素的元组，无论是否使用圆括号，在那唯一的元素后面一定要*补上一个逗号* `,`："
      ]
    },
    {
      "cell_type": "code",
      "execution_count": null,
      "metadata": {
        "id": "ppAJLVSD4jq0",
        "outputId": "95250ffb-ae12-4ce4-b447-89847eebdb47"
      },
      "outputs": [
        {
          "data": {
            "text/plain": [
              "(2,)"
            ]
          },
          "execution_count": 16,
          "metadata": {},
          "output_type": "execute_result"
        },
        {
          "data": {
            "text/plain": [
              "2"
            ]
          },
          "execution_count": 16,
          "metadata": {},
          "output_type": "execute_result"
        },
        {
          "data": {
            "text/plain": [
              "2"
            ]
          },
          "execution_count": 16,
          "metadata": {},
          "output_type": "execute_result"
        },
        {
          "data": {
            "text/plain": [
              "int"
            ]
          },
          "execution_count": 16,
          "metadata": {},
          "output_type": "execute_result"
        },
        {
          "data": {
            "text/plain": [
              "(2,)"
            ]
          },
          "execution_count": 16,
          "metadata": {},
          "output_type": "execute_result"
        },
        {
          "data": {
            "text/plain": [
              "True"
            ]
          },
          "execution_count": 16,
          "metadata": {},
          "output_type": "execute_result"
        }
      ],
      "source": [
        "from IPython.core.interactiveshell import InteractiveShell\n",
        "InteractiveShell.ast_node_interactivity = \"all\"\n",
        "\n",
        "a = 2, # 注意这个末尾的逗号 , 它使得 a 变量被定义为一个元组，而不是数字\n",
        "a\n",
        "\n",
        "b = 2  # 整数，赋值\n",
        "b\n",
        "\n",
        "c = (2) # 不是元组\n",
        "c\n",
        "type(c) # 还是 int\n",
        "\n",
        "d = (2,) # 这才是元组\n",
        "d\n",
        "a == d"
      ]
    },
    {
      "cell_type": "markdown",
      "metadata": {
        "id": "lLQIz7Bw4jq0"
      },
      "source": [
        "元组是不可变序列，所以，你没办法从里面删除元素。\n",
        "\n",
        "但是，你可以在末尾追加元素。所以，严格意义上，对元组来讲，“不可变” 的意思是说，“**当前已有部分不可变**”……"
      ]
    },
    {
      "cell_type": "code",
      "execution_count": null,
      "metadata": {
        "id": "PHYmOVM_4jq0",
        "outputId": "54943cba-bfd5-43ac-ca1f-6d13e782ae66"
      },
      "outputs": [
        {
          "name": "stdout",
          "output_type": "stream",
          "text": [
            "(1,)\n",
            "4593032496\n",
            "(1, 3, 5)\n",
            "4592468976\n"
          ]
        }
      ],
      "source": [
        "a = 1,\n",
        "print(a)\n",
        "print(id(a))\n",
        "a += 3, 5\n",
        "print(a)\n",
        "print(id(a)) # id 并不相同 —— 实际上是在内存中另外新创建了一个元组……"
      ]
    },
    {
      "cell_type": "markdown",
      "metadata": {
        "id": "ew8tcUIT4jq0"
      },
      "source": [
        "初学者总是很好奇 List 和 Tuple 的区别。首先是使用场景，在将来需要更改的时候，创建 List\n",
        "；在将来不需要更改的时候，创建 Tuple。其次，从计算机的角度来看，Tuple 相对于 List 占用更小的内存。"
      ]
    },
    {
      "cell_type": "code",
      "execution_count": null,
      "metadata": {
        "id": "_wy3pfhf4jq0",
        "outputId": "90a00a22-b2f8-4584-8586-20ffbe36ac59"
      },
      "outputs": [
        {
          "data": {
            "text/plain": [
              "48"
            ]
          },
          "execution_count": 18,
          "metadata": {},
          "output_type": "execute_result"
        },
        {
          "data": {
            "text/plain": [
              "80024"
            ]
          },
          "execution_count": 18,
          "metadata": {},
          "output_type": "execute_result"
        },
        {
          "data": {
            "text/plain": [
              "90088"
            ]
          },
          "execution_count": 18,
          "metadata": {},
          "output_type": "execute_result"
        }
      ],
      "source": [
        "from IPython.core.interactiveshell import InteractiveShell\n",
        "InteractiveShell.ast_node_interactivity = \"all\"\n",
        "\n",
        "n = 10000 #@param {type:\"number\"}\n",
        "a = range(n)\n",
        "b = tuple(a) # 把 a 转换成元组\n",
        "c = list(a) # 把 a 转换成列表\n",
        "a.__sizeof__()\n",
        "b.__sizeof__()\n",
        "c.__sizeof__()"
      ]
    },
    {
      "cell_type": "markdown",
      "metadata": {
        "id": "zuDpELtH4jq0"
      },
      "source": [
        "等你了解了 Tuple 的标注方式，你就会发现，`range()` 函数返回的等差数列就是一个 Tuple —— `range(6)` 就相当于 `(0, 1, 2, 3, 4, 5)`。"
      ]
    },
    {
      "cell_type": "markdown",
      "metadata": {
        "toc-hr-collapsed": true,
        "id": "fzohgAxd4jq0"
      },
      "source": [
        "## 集合（Set）"
      ]
    },
    {
      "cell_type": "markdown",
      "metadata": {
        "id": "eBFHB4Of4jq0"
      },
      "source": [
        "**集合**（Set）这个容器类型与列表不同的地方在于，首先它*不包含重合元素*，其次它是*无序*的；进而，集合又分为两种，Set，*可变的*，Frozen Set，*不可变的*。\n",
        "\n",
        "创建一个集合，用**花括号** `{}` 把元素括起来，用 `,` 把元素隔开："
      ]
    },
    {
      "cell_type": "code",
      "execution_count": null,
      "metadata": {
        "id": "VLBEeDo64jq0",
        "outputId": "b1a528f1-cc86-40fd-fa5d-d01461be3b15"
      },
      "outputs": [
        {
          "data": {
            "text/plain": [
              "{2, 3, 5, 7, 11, 13, 17}"
            ]
          },
          "execution_count": 19,
          "metadata": {},
          "output_type": "execute_result"
        }
      ],
      "source": [
        "primes = {2, 3, 5, 7, 11, 13, 17}\n",
        "primes"
      ]
    },
    {
      "cell_type": "markdown",
      "metadata": {
        "toc-hr-collapsed": true,
        "id": "9Zu9SQaL4jq0"
      },
      "source": [
        "### 创建"
      ]
    },
    {
      "cell_type": "markdown",
      "metadata": {
        "id": "IjjzOxhy4jq1"
      },
      "source": [
        "注意：创建空集合的时候，必须用 `set()`，而不能用 `{}`:"
      ]
    },
    {
      "cell_type": "code",
      "execution_count": 5,
      "metadata": {
        "id": "zpZeiEPS4jq1",
        "outputId": "574ff154-4602-4b45-eed7-a9e778b76185",
        "colab": {
          "base_uri": "https://localhost:8080/"
        }
      },
      "outputs": [
        {
          "output_type": "execute_result",
          "data": {
            "text/plain": [
              "dict"
            ]
          },
          "metadata": {},
          "execution_count": 5
        },
        {
          "output_type": "execute_result",
          "data": {
            "text/plain": [
              "set"
            ]
          },
          "metadata": {},
          "execution_count": 5
        }
      ],
      "source": [
        "from IPython.core.interactiveshell import InteractiveShell\n",
        "InteractiveShell.ast_node_interactivity = \"all\"\n",
        "\n",
        "a = {} # 注意这样创建的是一个 dict（字典），而不是 set 集合\n",
        "b = set() # 这样创建的才是空集合\n",
        "type(a)\n",
        "type(b)"
      ]
    },
    {
      "cell_type": "markdown",
      "metadata": {
        "id": "CDiHNAze4jq1"
      },
      "source": [
        "也可以将序列数据转换（Casting）为集合。转换后，返回的是一个已**去重**的集合。"
      ]
    },
    {
      "cell_type": "code",
      "execution_count": 12,
      "metadata": {
        "id": "d4GBDxFl4jq1",
        "outputId": "9d64045d-8c33-4106-f064-8b12f8f637ad",
        "colab": {
          "base_uri": "https://localhost:8080/"
        }
      },
      "outputs": [
        {
          "output_type": "stream",
          "name": "stdout",
          "text": [
            "abcabcdeabcdbcdef1223\n",
            "range(0, 10)\n",
            "typeof b: <class 'range'>\n",
            "[1, 2, 2, 3, 3, 1]\n",
            "('a', 'b', 'e', 'b', 'a')\n",
            "\n"
          ]
        },
        {
          "output_type": "execute_result",
          "data": {
            "text/plain": [
              "{'1', '2', '3', 'a', 'b', 'c', 'd', 'e', 'f'}"
            ]
          },
          "metadata": {},
          "execution_count": 12
        },
        {
          "output_type": "execute_result",
          "data": {
            "text/plain": [
              "{0, 1, 2, 3, 4, 5, 6, 7, 8, 9}"
            ]
          },
          "metadata": {},
          "execution_count": 12
        },
        {
          "output_type": "execute_result",
          "data": {
            "text/plain": [
              "{1, 2, 3}"
            ]
          },
          "metadata": {},
          "execution_count": 12
        },
        {
          "output_type": "execute_result",
          "data": {
            "text/plain": [
              "{'a', 'b', 'e'}"
            ]
          },
          "metadata": {},
          "execution_count": 12
        }
      ],
      "source": [
        "from IPython.core.interactiveshell import InteractiveShell\n",
        "InteractiveShell.ast_node_interactivity = \"all\"\n",
        "\n",
        "a = \"abcabcdeabcdbcdef1223\"\n",
        "b = range(10)\n",
        "c = [1, 2, 2, 3, 3, 1]#array\n",
        "d = ('a', 'b', 'e', 'b', 'a')#tuple\n",
        "print(a)\n",
        "print(b)\n",
        "print('typeof b:',type(b))\n",
        "print(c)\n",
        "print(d)\n",
        "print()\n",
        "set(a)\n",
        "set(b)\n",
        "set(c)\n",
        "set(d)"
      ]
    },
    {
      "cell_type": "markdown",
      "metadata": {
        "id": "GT-7_JJM4jq1"
      },
      "source": [
        "Set 当然也可以进行 *Comprehension*："
      ]
    },
    {
      "cell_type": "code",
      "execution_count": null,
      "metadata": {
        "id": "zah2n3B64jq1",
        "outputId": "937319fc-c2dd-4917-d28d-b2ce014fe013"
      },
      "outputs": [
        {
          "data": {
            "text/plain": [
              "{'d', 'e', 'f'}"
            ]
          },
          "execution_count": 22,
          "metadata": {},
          "output_type": "execute_result"
        }
      ],
      "source": [
        "a = \"abcabcdeabcdbcdef\"\n",
        "b = {x for x in a if x not in 'abc'}\n",
        "b"
      ]
    },
    {
      "cell_type": "markdown",
      "metadata": {
        "id": "-eExvCkz4jq1"
      },
      "source": [
        "### 操作"
      ]
    },
    {
      "cell_type": "markdown",
      "metadata": {
        "id": "FQeAn7l64jq1"
      },
      "source": [
        "将序列类型数据转换成 Set，就等于**去重**。当然，也可以用 `in` 来判断某个元素是否属于这个集合。`len()`、`max()`、`min()`，也都可以用来操作 Set，但 `del` 却不行 —— 因为 Set 中的元素没有索引（它不是有序容器）。从 Set 里删除元素，得用 `set.remove(elem)`；而 Frozen Set 是不可变的，所以不能用 `set.remove(elem)` 操作。\n",
        "\n",
        "对于集合，有相应的操作符可以对它们进行集合运算：\n",
        "\n",
        "> * 并集：`|`\n",
        "> * 交集：`&`\n",
        "> * 差集：`-`\n",
        "> * 对称差集：`^`"
      ]
    },
    {
      "cell_type": "code",
      "source": [
        "a = {'a','b','c'}\n",
        "b = {'c','d','e'}\n",
        "a | b\n",
        "a & b\n",
        "a - b\n",
        "a ^ b"
      ],
      "metadata": {
        "id": "Ffags9yQ-l0q",
        "outputId": "7229f602-3a3f-4414-89bc-ed244ea6facf",
        "colab": {
          "base_uri": "https://localhost:8080/"
        }
      },
      "execution_count": 13,
      "outputs": [
        {
          "output_type": "execute_result",
          "data": {
            "text/plain": [
              "{'a', 'b', 'c', 'd', 'e'}"
            ]
          },
          "metadata": {},
          "execution_count": 13
        },
        {
          "output_type": "execute_result",
          "data": {
            "text/plain": [
              "{'c'}"
            ]
          },
          "metadata": {},
          "execution_count": 13
        },
        {
          "output_type": "execute_result",
          "data": {
            "text/plain": [
              "{'a', 'b'}"
            ]
          },
          "metadata": {},
          "execution_count": 13
        },
        {
          "output_type": "execute_result",
          "data": {
            "text/plain": [
              "{'a', 'b', 'd', 'e'}"
            ]
          },
          "metadata": {},
          "execution_count": 13
        }
      ]
    },
    {
      "cell_type": "markdown",
      "metadata": {
        "id": "C0hpWpUo4jq1"
      },
      "source": [
        "之前用 `set('abcabcdeabcdbcdef')` 作为简单例子还凑合能用；但这样对读者无意义的集合，无助于进一步的理解。\n",
        "\n",
        "事实上，每种数据结构（Data Structures —— 在这一章里，我们一直用的概念是 “容器”，其实是指同一事物的两种称呼）都有自己的应用场景。比如，当我们需要管理很多用户时，集合就可以派上很大用场。\n",
        "\n",
        "假定两个集合中有些人是 admins，有些人是 moderators：\n",
        "\n",
        "```python\n",
        "admins = {'Moose', 'Joker', 'Joker'}\n",
        "moderators = {'Ann', 'Chris', 'Jane', 'Moose', 'Zero'}\n",
        "```\n",
        "\n",
        "那么："
      ]
    },
    {
      "cell_type": "code",
      "execution_count": 15,
      "metadata": {
        "id": "L2-CTXtw4jq1",
        "outputId": "e75d8e4f-8688-44c7-b255-8717457195dd",
        "colab": {
          "base_uri": "https://localhost:8080/"
        }
      },
      "outputs": [
        {
          "output_type": "execute_result",
          "data": {
            "text/plain": [
              "{'Joker', 'Moose'}"
            ]
          },
          "metadata": {},
          "execution_count": 15
        },
        {
          "output_type": "execute_result",
          "data": {
            "text/plain": [
              "True"
            ]
          },
          "metadata": {},
          "execution_count": 15
        },
        {
          "output_type": "execute_result",
          "data": {
            "text/plain": [
              "False"
            ]
          },
          "metadata": {},
          "execution_count": 15
        },
        {
          "output_type": "execute_result",
          "data": {
            "text/plain": [
              "{'Ann', 'Chris', 'Jane', 'Joker', 'Moose', 'Zero'}"
            ]
          },
          "metadata": {},
          "execution_count": 15
        },
        {
          "output_type": "execute_result",
          "data": {
            "text/plain": [
              "{'Moose'}"
            ]
          },
          "metadata": {},
          "execution_count": 15
        },
        {
          "output_type": "execute_result",
          "data": {
            "text/plain": [
              "{'Joker'}"
            ]
          },
          "metadata": {},
          "execution_count": 15
        },
        {
          "output_type": "execute_result",
          "data": {
            "text/plain": [
              "{'Ann', 'Chris', 'Jane', 'Joker', 'Zero'}"
            ]
          },
          "metadata": {},
          "execution_count": 15
        }
      ],
      "source": [
        "admins = {'Moose', 'Joker', 'Joker'}\n",
        "moderators = {'Ann', 'Chris', 'Jane', 'Moose', 'Zero'}\n",
        "\n",
        "admins                 # 去重自动完成\n",
        "'Joker' in admins      # Joker 是否是 admins？\n",
        "'Joker' in moderators  # Joker 是否是 moderator？\n",
        "admins | moderators    # admins、moderator，或者身兼两职的，即，两个角色中的所有人 in admins or moderators or both\n",
        "admins & moderators    # 既是 admins 又是 moderator 的都有谁？in both admins and moderators\n",
        "admins - moderators    # 是 admins 但不是 moderator 的都有谁？in admins but not in moderators\n",
        "admins ^ moderators    # admins 和 moderator 中不是身兼两职的都有谁？in admins or moderator but not both"
      ]
    },
    {
      "cell_type": "code",
      "execution_count": 17,
      "metadata": {
        "id": "2zl7VZVU4jq2",
        "outputId": "c9f65e72-1ac7-4aee-bec3-07593baa8975",
        "colab": {
          "base_uri": "https://localhost:8080/",
          "height": 399
        }
      },
      "outputs": [
        {
          "output_type": "display_data",
          "data": {
            "text/plain": [
              "<Figure size 640x480 with 1 Axes>"
            ],
            "image/png": "[encoded data removed]"
          },
          "metadata": {}
        }
      ],
      "source": [
        "# 这个 cell 集合运算图示需要安装 matplotlib 和 matplotlib-venn\n",
        "# !pip install matplotlib\n",
        "# !pip install matplotlib-venn\n",
        "import matplotlib.pyplot as plt\n",
        "from matplotlib_venn import venn2\n",
        "\n",
        "admins = {'Tom','Moose', 'Joker', 'Joker'}\n",
        "moderators = {'Ann', 'Chris', 'Jane', 'Moose', 'Zero'}\n",
        "\n",
        "v = venn2(subsets=(admins, moderators), set_labels=('admins', 'moderators'))\n",
        "v.get_label_by_id('11').set_text('\\n'.join(admins & moderators))\n",
        "v.get_label_by_id('10').set_text('\\n'.join(admins - moderators))\n",
        "v.get_label_by_id('01').set_text('\\n'.join(moderators - admins))\n",
        "\n",
        "plt.show()"
      ]
    },
    {
      "cell_type": "markdown",
      "metadata": {
        "id": "BouGyDra4jq2"
      },
      "source": [
        "以上的操作符，都有另外一个版本，即，用 Set 这个类的 Methods 完成。\n",
        "\n",
        "|   意义    | 操作符 | Methods                    | Methods 相当于 |\n",
        "| :------: | :----: | :---------------------: | :--: |\n",
        "| 并集     | <code>&#124;</code>    | `set.union(*others)`         | <code>set &#124; other &#124; ...</code> |\n",
        "| 交集     | `&`    | `set.intersection(*others)` | `set & other & ...` |\n",
        "| 差集     | `-`    | `set.difference(*others)` | `set - other - ...` |\n",
        "| 对称差集 | `^`    | `set.symmetric_difference(other)` | `set ^ other` |\n",
        "\n",
        "注意，并集、交集、差集的 Methods，可以接收多个集合作为参数 `(*other)`，但对称差集 Method 只接收一个参数 `(other)`。\n",
        "\n",
        "对于集合，推荐更多使用 Methods 而不是操作符的主要原因是：更易读 —— 对人来说，因为有意义、有用处的代码终将需要人去维护。"
      ]
    },
    {
      "cell_type": "code",
      "execution_count": 18,
      "metadata": {
        "id": "LXRR2W1z4jq2",
        "outputId": "55368dd6-de97-47d6-ec58-ba7884b4ef57",
        "colab": {
          "base_uri": "https://localhost:8080/"
        }
      },
      "outputs": [
        {
          "output_type": "execute_result",
          "data": {
            "text/plain": [
              "{'Chris', 'Jane', 'Joker', 'Moose', 'Zero'}"
            ]
          },
          "metadata": {},
          "execution_count": 18
        },
        {
          "output_type": "execute_result",
          "data": {
            "text/plain": [
              "{'Moose'}"
            ]
          },
          "metadata": {},
          "execution_count": 18
        },
        {
          "output_type": "execute_result",
          "data": {
            "text/plain": [
              "{'Joker'}"
            ]
          },
          "metadata": {},
          "execution_count": 18
        },
        {
          "output_type": "execute_result",
          "data": {
            "text/plain": [
              "{'Chris', 'Jane', 'Joker', 'Zero'}"
            ]
          },
          "metadata": {},
          "execution_count": 18
        }
      ],
      "source": [
        "from IPython.core.interactiveshell import InteractiveShell\n",
        "InteractiveShell.ast_node_interactivity = \"all\"\n",
        "\n",
        "admins = {'Moose', 'Joker', 'Joker'}\n",
        "moderators = {'Chris', 'Moose', 'Jane', 'Zero'}\n",
        "\n",
        "admins.union(moderators)\n",
        "admins.intersection(moderators)\n",
        "admins.difference(moderators)\n",
        "admins.symmetric_difference(moderators)"
      ]
    },
    {
      "cell_type": "markdown",
      "metadata": {
        "id": "uvXmWEOW4jq2"
      },
      "source": [
        "### 逻辑运算"
      ]
    },
    {
      "cell_type": "markdown",
      "metadata": {
        "id": "dZ_c__sE4jq2"
      },
      "source": [
        "两个集合之间可以进行逻辑比较，返回布尔值。\n",
        "\n",
        "**set** `==` **other**\n",
        "> `True`: set 与 other 相同\n",
        "\n",
        "**set** `!=` **other**\n",
        "> `True`: set 与 other 不同\n",
        "\n",
        "**isdisjoint**(_other_)\n",
        "> `True`: set 与 other 非重合；即，`set & other == None`\n",
        "\n",
        "**issubset**(_other_)，**set** `<=` **other**\n",
        "> `True`: set 是 other 的子集\n",
        "\n",
        "**set** `<` **other**\n",
        "> `True`: set 是 other 的真子集，相当于 `set <= other && set != other`\n",
        "\n",
        "**issuperset**(_other_)，**set** `>=` **other**\n",
        "> `True`: set 是 other 的超集\n",
        "\n",
        "**set** `>` **other**\n",
        "> `True`: set 是 other 的真超集，相当于 `set >= other && set != other`"
      ]
    },
    {
      "cell_type": "code",
      "source": [
        "a = {'c','c'}\n",
        "b = {'c'}\n",
        "'c' in a\n",
        "print()\n",
        "a.discard('c')\n",
        "a\n",
        "print()\n",
        "a == b\n",
        "a != b\n",
        "a.isdisjoint(b)\n",
        "a <= b\n",
        "a < b\n",
        "a >= b\n",
        "a > b"
      ],
      "metadata": {
        "id": "wEAxiyq1BTQC",
        "outputId": "5296f293-f901-4528-cd14-5d6a49fc7d83",
        "colab": {
          "base_uri": "https://localhost:8080/"
        }
      },
      "execution_count": 22,
      "outputs": [
        {
          "output_type": "execute_result",
          "data": {
            "text/plain": [
              "True"
            ]
          },
          "metadata": {},
          "execution_count": 22
        },
        {
          "output_type": "stream",
          "name": "stdout",
          "text": [
            "\n"
          ]
        },
        {
          "output_type": "execute_result",
          "data": {
            "text/plain": [
              "set()"
            ]
          },
          "metadata": {},
          "execution_count": 22
        },
        {
          "output_type": "stream",
          "name": "stdout",
          "text": [
            "\n"
          ]
        },
        {
          "output_type": "execute_result",
          "data": {
            "text/plain": [
              "False"
            ]
          },
          "metadata": {},
          "execution_count": 22
        },
        {
          "output_type": "execute_result",
          "data": {
            "text/plain": [
              "True"
            ]
          },
          "metadata": {},
          "execution_count": 22
        },
        {
          "output_type": "execute_result",
          "data": {
            "text/plain": [
              "True"
            ]
          },
          "metadata": {},
          "execution_count": 22
        },
        {
          "output_type": "execute_result",
          "data": {
            "text/plain": [
              "True"
            ]
          },
          "metadata": {},
          "execution_count": 22
        },
        {
          "output_type": "execute_result",
          "data": {
            "text/plain": [
              "True"
            ]
          },
          "metadata": {},
          "execution_count": 22
        },
        {
          "output_type": "execute_result",
          "data": {
            "text/plain": [
              "False"
            ]
          },
          "metadata": {},
          "execution_count": 22
        },
        {
          "output_type": "execute_result",
          "data": {
            "text/plain": [
              "False"
            ]
          },
          "metadata": {},
          "execution_count": 22
        }
      ]
    },
    {
      "cell_type": "markdown",
      "metadata": {
        "toc-hr-collapsed": true,
        "id": "dEtT5h184jq2"
      },
      "source": [
        "### 更新"
      ]
    },
    {
      "cell_type": "markdown",
      "metadata": {
        "id": "PC7_ZELK4jq2"
      },
      "source": [
        "对于集合，有以下更新它自身的 Method："
      ]
    },
    {
      "cell_type": "markdown",
      "metadata": {
        "id": "u6lVc2Bl4jq2"
      },
      "source": [
        "**add**(*elem*)\n",
        "> 把 elem 加入集合\n",
        "\n",
        "**remove**(*elem*)\n",
        "> 从集合中删除 elem；如果集合中不包含该 elem，会产生 KeyError 错误。\n",
        "\n",
        "**discard**(*elem*)\n",
        "> 如果该元素存在于集合中，删除它。\n",
        "\n",
        "**pop**()\n",
        "> 从集合中随机删除一个元素，并返回删除的元素的值，针对空集合做此操作会产生 KeyError 错误。\n",
        "\n",
        "**clear**()\n",
        "从集合中删除所有元素。"
      ]
    },
    {
      "cell_type": "markdown",
      "metadata": {
        "id": "ar9euITj4jq2"
      },
      "source": [
        "**set.update**(*_others_)，相当于 `set |= other | ...`\n",
        "> 更新 set, 加入 others 中的所有元素；\n",
        "\n",
        "**set.intersection_update**(*_others_)，相当于 `set &= other & ...`\n",
        "> 更新 set, 保留同时存在于 set 和所有 others 之中的元素；\n",
        "\n",
        "**set.difference_update**(*_others_)，相当于 `set -= other | ...`\n",
        "> 更新 set, 删除所有在 others 中存在的元素；\n",
        "\n",
        "**set.symmetric_difference_update**(_other_)，相当于 `set ^= other`\n",
        "> 更新 set, 只保留存在于 set 或 other 中的元素，但不保留同时存在于 set 和 other 中的元素；**注意**，该 Method *只接收一个参数*。"
      ]
    },
    {
      "cell_type": "markdown",
      "metadata": {
        "id": "7w-znggD4jq3"
      },
      "source": [
        "### 冻结集合"
      ]
    },
    {
      "cell_type": "markdown",
      "metadata": {
        "id": "-8iQwV8E4jq3"
      },
      "source": [
        "还有一种集合，叫做冻结集合（Frozen Set），Frozen Set 之于 Set，正如 Tuple 之于 List，前者是不可变容器（Immutable），后者是可变容器（Mutable），无非是为了节省内存使用而设计的类别。\n",
        "\n",
        "有空去看看这个链接就可以了：\n",
        "\n",
        "> https://docs.python.org/3/library/stdtypes.html#frozenset"
      ]
    },
    {
      "cell_type": "markdown",
      "metadata": {
        "toc-hr-collapsed": true,
        "id": "hZ019xlq4jq3"
      },
      "source": [
        "## 字典（Dictionary）"
      ]
    },
    {
      "cell_type": "markdown",
      "source": [],
      "metadata": {
        "id": "EWrWc_2NGNqP"
      }
    },
    {
      "cell_type": "markdown",
      "metadata": {
        "id": "otx8kaSX4jq3"
      },
      "source": [
        "Map 是容器中的单独一类，**映射**（Map）容器。映射容器只有一种，叫做**字典**（Dictionary）。先看一个例子："
      ]
    },
    {
      "cell_type": "markdown",
      "source": [],
      "metadata": {
        "id": "G9npYK9kGNWK"
      }
    },
    {
      "cell_type": "code",
      "execution_count": null,
      "metadata": {
        "id": "YiTGweGJ4jq3"
      },
      "outputs": [],
      "source": [
        "phonebook = {'ann':6575, 'bob':8982, 'joe':2598, 'zoe':1225}\n",
        "phonebook"
      ]
    },
    {
      "cell_type": "markdown",
      "metadata": {
        "id": "i27JG2nj4jq3"
      },
      "source": [
        "字典里的每个元素，由两部分组成，_key_（键）和 _value_（值），二者由一个冒号连接。\n",
        "\n",
        "比如，`'ann':6575` 这个字典元素，_key_ 是 `'ann'`，_value_ 是 `6575`。\n",
        "\n",
        "字典直接使用 _key_ 作为索引，并映射到与它匹配的 _value_："
      ]
    },
    {
      "cell_type": "code",
      "execution_count": 28,
      "metadata": {
        "id": "njtqamCt4jq3",
        "outputId": "64f5cc4e-e70e-4b65-99e4-29a35ad2b600",
        "colab": {
          "base_uri": "https://localhost:8080/",
          "height": 89
        }
      },
      "outputs": [
        {
          "output_type": "execute_result",
          "data": {
            "text/plain": [
              "8982"
            ]
          },
          "metadata": {},
          "execution_count": 28
        },
        {
          "output_type": "execute_result",
          "data": {
            "text/plain": [
              "int"
            ]
          },
          "metadata": {},
          "execution_count": 28
        },
        {
          "output_type": "execute_result",
          "data": {
            "text/plain": [
              "'b_1225'"
            ],
            "application/vnd.google.colaboratory.intrinsic+json": {
              "type": "string"
            }
          },
          "metadata": {},
          "execution_count": 28
        },
        {
          "output_type": "execute_result",
          "data": {
            "text/plain": [
              "str"
            ]
          },
          "metadata": {},
          "execution_count": 28
        }
      ],
      "source": [
        "zoevalue = 'b_1225'\n",
        "phonebook = {'ann':6575, 'bob':8982, 'joe':2598,'zoe':1235 ,'zoe':zoevalue}\n",
        "phonebook['bob']\n",
        "type(phonebook['bob'])\n",
        "phonebook['zoe']\n",
        "type(phonebook['zoe'])"
      ]
    },
    {
      "cell_type": "markdown",
      "metadata": {
        "id": "HPrHSEGx4jq3"
      },
      "source": [
        "在同一个字典里，_key_ 都是唯一的。当创建字典的时候，如果其中有重复的 _key_ 的话，就跟 Set 那样会 “**自动去重**” —— 保留的是众多重复的 _key_ 中的最后一个 _key:value_（或者说，最后一个 _key:value_ “之前那个 _key_ 的 _value_ 被**更新**了”）。字典这个数据类型之所以叫做 Map（映射），是因为字典里的 _key_ 都映射且只映射一个对应的 _value_。"
      ]
    },
    {
      "cell_type": "code",
      "execution_count": null,
      "metadata": {
        "id": "7XC9AC6s4jq3",
        "outputId": "e2a10ac4-aa02-4b69-d1a7-99e060fde0ea"
      },
      "outputs": [
        {
          "data": {
            "text/plain": [
              "{'ann': 6585, 'bob': 8982, 'joe': 2598, 'zoe': 1225}"
            ]
          },
          "execution_count": 29,
          "metadata": {},
          "output_type": "execute_result"
        }
      ],
      "source": [
        "phonebook = {'ann':6575, 'bob':8982, 'joe':2598, 'zoe':1225, 'ann':6585}\n",
        "phonebook"
      ]
    },
    {
      "cell_type": "markdown",
      "metadata": {
        "id": "wj0oaikM4jq3"
      },
      "source": [
        "在已经了解如何操作列表之后，再去理解字典的操作，其实没什么难度，无非就是字典多了几个 Methods。\n",
        "\n",
        "提蓄一下自己的耐心，把下面的若干行代码都仔细阅读一下，猜一猜输出结果都是什么？"
      ]
    },
    {
      "cell_type": "markdown",
      "metadata": {
        "id": "Bjbm6aq84jq3"
      },
      "source": [
        "### 字典的生成"
      ]
    },
    {
      "cell_type": "code",
      "execution_count": null,
      "metadata": {
        "id": "rDCQVBSr4jq4",
        "outputId": "b5260c0f-67de-40bb-cdf0-1ad42e512d83"
      },
      "outputs": [
        {
          "data": {
            "text/plain": [
              "{}"
            ]
          },
          "execution_count": 30,
          "metadata": {},
          "output_type": "execute_result"
        },
        {
          "data": {
            "text/plain": [
              "{'a': 1, 'b': 2, 'c': 3}"
            ]
          },
          "execution_count": 30,
          "metadata": {},
          "output_type": "execute_result"
        }
      ],
      "source": [
        "from IPython.core.interactiveshell import InteractiveShell\n",
        "InteractiveShell.ast_node_interactivity = \"all\"\n",
        "\n",
        "aDict = {}\n",
        "bDict = {'a':1, 'b':2, 'c':3}\n",
        "aDict\n",
        "bDict"
      ]
    },
    {
      "cell_type": "markdown",
      "metadata": {
        "id": "HdiAXz644jq4"
      },
      "source": [
        "### 更新某个元素"
      ]
    },
    {
      "cell_type": "code",
      "execution_count": null,
      "metadata": {
        "id": "wcduIpmr4jq4",
        "outputId": "946d7c11-833b-41fd-86fa-da501483631e"
      },
      "outputs": [
        {
          "data": {
            "text/plain": [
              "2598"
            ]
          },
          "execution_count": 31,
          "metadata": {},
          "output_type": "execute_result"
        },
        {
          "data": {
            "text/plain": [
              "{'ann': 6585, 'bob': 8982, 'joe': 5802, 'zoe': 1225}"
            ]
          },
          "execution_count": 31,
          "metadata": {},
          "output_type": "execute_result"
        },
        {
          "data": {
            "text/plain": [
              "5802"
            ]
          },
          "execution_count": 31,
          "metadata": {},
          "output_type": "execute_result"
        }
      ],
      "source": [
        "from IPython.core.interactiveshell import InteractiveShell\n",
        "InteractiveShell.ast_node_interactivity = \"all\"\n",
        "\n",
        "phonebook1 = {'ann':6575, 'bob':8982, 'joe':2598, 'zoe':1225, 'ann':6585}\n",
        "\n",
        "phonebook1['joe']\n",
        "phonebook1['joe'] = 5802\n",
        "phonebook1\n",
        "phonebook1['joe']"
      ]
    },
    {
      "cell_type": "markdown",
      "metadata": {
        "id": "Zm2oUEpv4jq4"
      },
      "source": [
        "### 添加元素"
      ]
    },
    {
      "cell_type": "code",
      "execution_count": null,
      "metadata": {
        "id": "NoOspNQn4jq4",
        "outputId": "b32fb632-368e-4f97-8be5-ae979643fab6"
      },
      "outputs": [
        {
          "data": {
            "text/plain": [
              "{'ann': 6585,\n",
              " 'bob': 8982,\n",
              " 'joe': 2598,\n",
              " 'zoe': 1225,\n",
              " 'john': 9876,\n",
              " 'mike': 5603,\n",
              " 'stan': 6898,\n",
              " 'eric': 7898}"
            ]
          },
          "execution_count": 32,
          "metadata": {},
          "output_type": "execute_result"
        }
      ],
      "source": [
        "from IPython.core.interactiveshell import InteractiveShell\n",
        "InteractiveShell.ast_node_interactivity = \"all\"\n",
        "\n",
        "phonebook1 = {'ann':6575, 'bob':8982, 'joe':2598, 'zoe':1225, 'ann':6585}\n",
        "phonebook2 = {'john':9876, 'mike':5603, 'stan':6898, 'eric':7898}\n",
        "\n",
        "phonebook1.update(phonebook2)\n",
        "phonebook1"
      ]
    },
    {
      "cell_type": "markdown",
      "metadata": {
        "id": "j3v1uGeR4jq4"
      },
      "source": [
        "### 删除某个元素"
      ]
    },
    {
      "cell_type": "code",
      "execution_count": null,
      "metadata": {
        "id": "9qyrOW4q4jq4",
        "outputId": "3703088f-4d5d-412d-a675-c93fce2f592a"
      },
      "outputs": [
        {
          "data": {
            "text/plain": [
              "{'bob': 8982, 'joe': 2598, 'zoe': 1225}"
            ]
          },
          "execution_count": 33,
          "metadata": {},
          "output_type": "execute_result"
        }
      ],
      "source": [
        "from IPython.core.interactiveshell import InteractiveShell\n",
        "InteractiveShell.ast_node_interactivity = \"all\"\n",
        "\n",
        "phonebook1 = {'ann':6575, 'bob':8982, 'joe':2598, 'zoe':1225, 'ann':6585}\n",
        "\n",
        "del phonebook1['ann']\n",
        "phonebook1"
      ]
    },
    {
      "cell_type": "markdown",
      "metadata": {
        "id": "-kOpvlKy4jq4"
      },
      "source": [
        "### 逻辑操作符"
      ]
    },
    {
      "cell_type": "code",
      "execution_count": 29,
      "metadata": {
        "id": "w8ixGyyV4jq4",
        "outputId": "31508d95-c206-47bc-98c1-9960323a1353",
        "colab": {
          "base_uri": "https://localhost:8080/"
        }
      },
      "outputs": [
        {
          "output_type": "execute_result",
          "data": {
            "text/plain": [
              "True"
            ]
          },
          "metadata": {},
          "execution_count": 29
        },
        {
          "output_type": "execute_result",
          "data": {
            "text/plain": [
              "dict_keys(['ann', 'bob', 'joe', 'zoe'])"
            ]
          },
          "metadata": {},
          "execution_count": 29
        },
        {
          "output_type": "execute_result",
          "data": {
            "text/plain": [
              "False"
            ]
          },
          "metadata": {},
          "execution_count": 29
        },
        {
          "output_type": "execute_result",
          "data": {
            "text/plain": [
              "dict_values([6585, 8982, 2598, 1225])"
            ]
          },
          "metadata": {},
          "execution_count": 29
        },
        {
          "output_type": "execute_result",
          "data": {
            "text/plain": [
              "True"
            ]
          },
          "metadata": {},
          "execution_count": 29
        },
        {
          "output_type": "execute_result",
          "data": {
            "text/plain": [
              "dict_items([('ann', 6585), ('bob', 8982), ('joe', 2598), ('zoe', 1225)])"
            ]
          },
          "metadata": {},
          "execution_count": 29
        },
        {
          "output_type": "execute_result",
          "data": {
            "text/plain": [
              "False"
            ]
          },
          "metadata": {},
          "execution_count": 29
        }
      ],
      "source": [
        "phonebook1 = {'ann':6575, 'bob':8982, 'joe':2598, 'zoe':1225, 'ann':6585}\n",
        "\n",
        "'ann' in phonebook1\n",
        "\n",
        "phonebook1.keys()\n",
        "'stan' in phonebook1.keys()\n",
        "\n",
        "phonebook1.values()\n",
        "1225 in phonebook1.values()\n",
        "\n",
        "phonebook1.items()\n",
        "('stan', 6898) in phonebook1.items()"
      ]
    },
    {
      "cell_type": "markdown",
      "metadata": {
        "id": "NkLmgz_S4jq4"
      },
      "source": [
        "### 可用来操作的内建函数"
      ]
    },
    {
      "cell_type": "code",
      "execution_count": 30,
      "metadata": {
        "id": "iHb7EC9M4jq5",
        "outputId": "09c9fad3-6595-46f0-c5a4-f3dd743616c0",
        "colab": {
          "base_uri": "https://localhost:8080/",
          "height": 321
        }
      },
      "outputs": [
        {
          "output_type": "execute_result",
          "data": {
            "text/plain": [
              "{'ann': 6585,\n",
              " 'bob': 8982,\n",
              " 'joe': 2598,\n",
              " 'zoe': 1225,\n",
              " 'john': 9876,\n",
              " 'mike': 5603,\n",
              " 'stan': 6898,\n",
              " 'eric': 7898}"
            ]
          },
          "metadata": {},
          "execution_count": 30
        },
        {
          "output_type": "stream",
          "name": "stdout",
          "text": [
            "\n"
          ]
        },
        {
          "output_type": "execute_result",
          "data": {
            "text/plain": [
              "8"
            ]
          },
          "metadata": {},
          "execution_count": 30
        },
        {
          "output_type": "execute_result",
          "data": {
            "text/plain": [
              "'zoe'"
            ],
            "application/vnd.google.colaboratory.intrinsic+json": {
              "type": "string"
            }
          },
          "metadata": {},
          "execution_count": 30
        },
        {
          "output_type": "execute_result",
          "data": {
            "text/plain": [
              "'ann'"
            ],
            "application/vnd.google.colaboratory.intrinsic+json": {
              "type": "string"
            }
          },
          "metadata": {},
          "execution_count": 30
        },
        {
          "output_type": "execute_result",
          "data": {
            "text/plain": [
              "['ann', 'bob', 'joe', 'zoe', 'john', 'mike', 'stan', 'eric']"
            ]
          },
          "metadata": {},
          "execution_count": 30
        },
        {
          "output_type": "execute_result",
          "data": {
            "text/plain": [
              "('ann', 'bob', 'joe', 'zoe', 'john', 'mike', 'stan', 'eric')"
            ]
          },
          "metadata": {},
          "execution_count": 30
        },
        {
          "output_type": "execute_result",
          "data": {
            "text/plain": [
              "{'ann', 'bob', 'eric', 'joe', 'john', 'mike', 'stan', 'zoe'}"
            ]
          },
          "metadata": {},
          "execution_count": 30
        },
        {
          "output_type": "execute_result",
          "data": {
            "text/plain": [
              "['ann', 'bob', 'eric', 'joe', 'john', 'mike', 'stan', 'zoe']"
            ]
          },
          "metadata": {},
          "execution_count": 30
        },
        {
          "output_type": "execute_result",
          "data": {
            "text/plain": [
              "['zoe', 'stan', 'mike', 'john', 'joe', 'eric', 'bob', 'ann']"
            ]
          },
          "metadata": {},
          "execution_count": 30
        }
      ],
      "source": [
        "from IPython.core.interactiveshell import InteractiveShell\n",
        "InteractiveShell.ast_node_interactivity = \"all\"\n",
        "\n",
        "phonebook1 = {'ann':6575, 'bob':8982, 'joe':2598, 'zoe':1225, 'ann':6585}\n",
        "phonebook2 = {'john':9876, 'mike':5603, 'stan':6898, 'eric':7898}\n",
        "phonebook1.update(phonebook2)\n",
        "phonebook1\n",
        "print()\n",
        "len(phonebook1)\n",
        "max(phonebook1)\n",
        "min(phonebook1)\n",
        "list(phonebook1)\n",
        "tuple(phonebook1)\n",
        "set(phonebook1)\n",
        "sorted(phonebook1)\n",
        "sorted(phonebook1, reverse=True)"
      ]
    },
    {
      "cell_type": "markdown",
      "metadata": {
        "id": "27vGR7-H4jq5"
      },
      "source": [
        "### 常用 Methods"
      ]
    },
    {
      "cell_type": "code",
      "execution_count": 34,
      "metadata": {
        "id": "WTVag0r74jq5",
        "outputId": "feef420a-415f-4ad0-b83c-211f4ea1b1e2",
        "colab": {
          "base_uri": "https://localhost:8080/"
        }
      },
      "outputs": [
        {
          "output_type": "execute_result",
          "data": {
            "text/plain": [
              "{'john': 9876, 'mike': 5603, 'stan': 6898, 'eric': 7898}"
            ]
          },
          "metadata": {},
          "execution_count": 34
        },
        {
          "output_type": "execute_result",
          "data": {
            "text/plain": [
              "{}"
            ]
          },
          "metadata": {},
          "execution_count": 34
        },
        {
          "output_type": "execute_result",
          "data": {
            "text/plain": [
              "{'john': 9876, 'mike': 5603, 'stan': 6898, 'eric': 7898}"
            ]
          },
          "metadata": {},
          "execution_count": 34
        },
        {
          "output_type": "stream",
          "name": "stdout",
          "text": [
            "popitem:\n"
          ]
        },
        {
          "output_type": "execute_result",
          "data": {
            "text/plain": [
              "('zoe', 1225)"
            ]
          },
          "metadata": {},
          "execution_count": 34
        },
        {
          "output_type": "execute_result",
          "data": {
            "text/plain": [
              "{'ann': 6585, 'bob': 8982, 'joe': 2598}"
            ]
          },
          "metadata": {},
          "execution_count": 34
        },
        {
          "output_type": "execute_result",
          "data": {
            "text/plain": [
              "3538"
            ]
          },
          "metadata": {},
          "execution_count": 34
        },
        {
          "output_type": "execute_result",
          "data": {
            "text/plain": [
              "{'ann': 6585, 'bob': 8982, 'joe': 2598}"
            ]
          },
          "metadata": {},
          "execution_count": 34
        },
        {
          "output_type": "execute_result",
          "data": {
            "text/plain": [
              "3538"
            ]
          },
          "metadata": {},
          "execution_count": 34
        },
        {
          "output_type": "execute_result",
          "data": {
            "text/plain": [
              "{'ann': 6585, 'bob': 8982, 'joe': 2598}"
            ]
          },
          "metadata": {},
          "execution_count": 34
        },
        {
          "output_type": "execute_result",
          "data": {
            "text/plain": [
              "3538"
            ]
          },
          "metadata": {},
          "execution_count": 34
        },
        {
          "output_type": "execute_result",
          "data": {
            "text/plain": [
              "{'ann': 6585, 'bob': 8982, 'joe': 2598, 'adam': 3538}"
            ]
          },
          "metadata": {},
          "execution_count": 34
        }
      ],
      "source": [
        "from IPython.core.interactiveshell import InteractiveShell\n",
        "InteractiveShell.ast_node_interactivity = \"all\"\n",
        "\n",
        "phonebook1 = {'ann':6575, 'bob':8982, 'joe':2598, 'zoe':1225, 'ann':6585}\n",
        "phonebook2 = {'john':9876, 'mike':5603, 'stan':6898, 'eric':7898}\n",
        "\n",
        "phonebook3 = phonebook2.copy()\n",
        "phonebook3\n",
        "\n",
        "phonebook3.clear()\n",
        "phonebook3\n",
        "\n",
        "phonebook2                      # .copy() 的 “原件” 不会发生变化\n",
        "print('popitem:')\n",
        "p = phonebook1.popitem()\n",
        "p\n",
        "phonebook1\n",
        "\n",
        "p = phonebook1.pop('adam', 3538)\n",
        "p\n",
        "phonebook1\n",
        "\n",
        "p = phonebook1.get('adam', 3538)\n",
        "p\n",
        "phonebook1\n",
        "\n",
        "p = phonebook1.setdefault('adam', 3538)\n",
        "p\n",
        "phonebook1"
      ]
    },
    {
      "cell_type": "markdown",
      "metadata": {
        "toc-hr-collapsed": true,
        "id": "JlM4FhY74jq5"
      },
      "source": [
        "## 迭代各种容器中的元素"
      ]
    },
    {
      "cell_type": "markdown",
      "metadata": {
        "id": "sX9T0f6i4jq5"
      },
      "source": [
        "我们总是有这样的需求：对容器中的元素逐一进行处理（运算）。这样的时候，我们就用 `for` 循环去迭代它们。\n",
        "\n",
        "对于迭代 `range()` 和 `list` 中的元素我们已经很习惯了："
      ]
    },
    {
      "cell_type": "code",
      "execution_count": null,
      "metadata": {
        "id": "oBh2N_Oi4jq5",
        "outputId": "a8384444-3549-479f-c1f4-7b698b51bf53"
      },
      "outputs": [
        {
          "name": "stdout",
          "output_type": "stream",
          "text": [
            "0\n",
            "1\n",
            "2\n"
          ]
        }
      ],
      "source": [
        "for i in range(3):\n",
        "    print(i)"
      ]
    },
    {
      "cell_type": "code",
      "execution_count": null,
      "metadata": {
        "id": "8jwKQqwL4jq5",
        "outputId": "3fc14d27-b9d2-4e15-83c7-8acd390ed2a9"
      },
      "outputs": [
        {
          "name": "stdout",
          "output_type": "stream",
          "text": [
            "1\n",
            "2\n",
            "3\n"
          ]
        }
      ],
      "source": [
        "for i in [1, 2, 3]:\n",
        "    print(i)"
      ]
    },
    {
      "cell_type": "markdown",
      "metadata": {
        "id": "XXP7msek4jq5"
      },
      "source": [
        "### 迭代的同时获取索引"
      ]
    },
    {
      "cell_type": "markdown",
      "metadata": {
        "id": "D03RKu-u4jq5"
      },
      "source": [
        "有时，我们想同时得到有序容器中的元素及其索引，那么可以调用 `enumerate()` 函数来帮我们："
      ]
    },
    {
      "cell_type": "code",
      "execution_count": 36,
      "metadata": {
        "id": "FM5adZFh4jq6",
        "outputId": "9928c62b-8a57-4d3f-efeb-4c57518a5a6d",
        "colab": {
          "base_uri": "https://localhost:8080/"
        }
      },
      "outputs": [
        {
          "output_type": "stream",
          "name": "stdout",
          "text": [
            "0 P\n",
            "1 y\n",
            "2 t\n",
            "3 h\n",
            "4 o\n",
            "5 n\n",
            "P\n",
            "y\n",
            "t\n",
            "h\n",
            "o\n",
            "n\n"
          ]
        }
      ],
      "source": [
        "s = 'Python'\n",
        "for i, element in enumerate(s):\n",
        "    print(i, element)\n",
        "for i in s:\n",
        "  print(i)"
      ]
    },
    {
      "cell_type": "code",
      "execution_count": null,
      "metadata": {
        "id": "Q1dtbrvV4jq6",
        "outputId": "a5d0727f-00f6-4a4a-d05a-f40fb1454d93"
      },
      "outputs": [
        {
          "name": "stdout",
          "output_type": "stream",
          "text": [
            "0 0\n",
            "1 1\n",
            "2 2\n"
          ]
        }
      ],
      "source": [
        "for i, v in enumerate(range(3)):\n",
        "    print(i, v)"
      ]
    },
    {
      "cell_type": "code",
      "execution_count": null,
      "metadata": {
        "id": "DGgJvD6F4jq6",
        "outputId": "6479cb15-652b-4751-dce5-e041ee580c83"
      },
      "outputs": [
        {
          "name": "stdout",
          "output_type": "stream",
          "text": [
            "0 ann\n",
            "1 bob\n",
            "2 joe\n",
            "3 john\n",
            "4 mike\n"
          ]
        }
      ],
      "source": [
        "L = ['ann', 'bob', 'joe', 'john', 'mike']\n",
        "for i, L in enumerate(L):\n",
        "    print(i, L)"
      ]
    },
    {
      "cell_type": "code",
      "execution_count": null,
      "metadata": {
        "id": "vFnkYjDZ4jq6",
        "outputId": "29de63cf-af72-48fc-ae2e-a5752368b657"
      },
      "outputs": [
        {
          "name": "stdout",
          "output_type": "stream",
          "text": [
            "0 ann\n",
            "1 bob\n",
            "2 joe\n",
            "3 john\n",
            "4 mike\n"
          ]
        }
      ],
      "source": [
        "t = ('ann', 'bob', 'joe', 'john', 'mike')\n",
        "for i, t in enumerate(t):\n",
        "    print(i, t)"
      ]
    },
    {
      "cell_type": "markdown",
      "metadata": {
        "id": "FHR6v7l94jq6"
      },
      "source": [
        "### 迭代前排序"
      ]
    },
    {
      "cell_type": "markdown",
      "metadata": {
        "id": "yunX9nVB4jq6"
      },
      "source": [
        "可以用 `sorted()` 和 `reversed()` 在迭代前先排好序："
      ]
    },
    {
      "cell_type": "code",
      "execution_count": null,
      "metadata": {
        "id": "skkI6exv4jq6",
        "outputId": "c28607f3-2fad-4c35-8fcb-920fffe24157"
      },
      "outputs": [
        {
          "name": "stdout",
          "output_type": "stream",
          "text": [
            "0 ann\n",
            "1 bob\n",
            "2 joe\n",
            "3 john\n",
            "4 mike\n"
          ]
        }
      ],
      "source": [
        "t = ('bob', 'ann', 'john', 'mike', 'joe')\n",
        "for i, t in enumerate(sorted(t)):\n",
        "    print(i, t)"
      ]
    },
    {
      "cell_type": "code",
      "execution_count": null,
      "metadata": {
        "id": "73eVPFQK4jq6",
        "outputId": "cb071303-5c5b-4685-8078-2f9fc8d37ebe"
      },
      "outputs": [
        {
          "name": "stdout",
          "output_type": "stream",
          "text": [
            "0 mike\n",
            "1 john\n",
            "2 joe\n",
            "3 bob\n",
            "4 ann\n"
          ]
        }
      ],
      "source": [
        "t = ('bob', 'ann', 'john', 'mike', 'joe')\n",
        "for i, t in enumerate(sorted(t, reverse=True)):\n",
        "    print(i, t)"
      ]
    },
    {
      "cell_type": "code",
      "execution_count": null,
      "metadata": {
        "id": "WA71gEOQ4jq6",
        "outputId": "b8c616d6-a3cb-4595-a93f-83fae265083c"
      },
      "outputs": [
        {
          "name": "stdout",
          "output_type": "stream",
          "text": [
            "0 joe\n",
            "1 mike\n",
            "2 john\n",
            "3 ann\n",
            "4 bob\n"
          ]
        }
      ],
      "source": [
        "t = ('bob', 'ann', 'john', 'mike', 'joe')\n",
        "for i, t in enumerate(reversed(t)):\n",
        "    print(i, t)"
      ]
    },
    {
      "cell_type": "markdown",
      "metadata": {
        "id": "Pivph3d34jq6"
      },
      "source": [
        "### 同时迭代多个容器"
      ]
    },
    {
      "cell_type": "markdown",
      "metadata": {
        "id": "ysK6RXF94jq6"
      },
      "source": [
        "可以在 `zip()` 这个函数的帮助下，同时迭代两个或者两个以上的容器中的元素（这样做的前提是，多个容器中的元素数量最好相同）："
      ]
    },
    {
      "cell_type": "code",
      "execution_count": 48,
      "metadata": {
        "id": "3_Zd3KLG4jq7",
        "outputId": "1409b687-974f-48ff-c462-55d7ca68678d",
        "colab": {
          "base_uri": "https://localhost:8080/"
        }
      },
      "outputs": [
        {
          "output_type": "stream",
          "name": "stdout",
          "text": [
            "0,  Let's assume a represents 1.\n",
            "1,  Let's assume b represents 2.\n",
            "2,  Let's assume c represents 3.\n",
            "3,  Let's assume d represents 4.\n",
            "4,  Let's assume e represents 5.\n",
            "5,  Let's assume f represents 6.\n",
            "6,  Let's assume g represents 7.\n",
            "7,  Let's assume h represents 8.\n",
            "8,  Let's assume i represents 9.\n",
            "9,  Let's assume j represents 10.\n",
            "10,  Let's assume k represents 11.\n",
            "11,  Let's assume l represents 12.\n",
            "12,  Let's assume m represents 13.\n",
            "13,  Let's assume n represents 14.\n",
            "14,  Let's assume o represents 15.\n",
            "15,  Let's assume p represents 16.\n",
            "16,  Let's assume q represents 17.\n",
            "17,  Let's assume r represents 18.\n",
            "18,  Let's assume s represents 19.\n",
            "19,  Let's assume t represents 20.\n",
            "20,  Let's assume u represents 21.\n",
            "21,  Let's assume v represents 22.\n",
            "22,  Let's assume w represents 23.\n",
            "23,  Let's assume x represents 24.\n",
            "24,  Let's assume y represents 25.\n",
            "25,  Let's assume z represents 26.\n"
          ]
        }
      ],
      "source": [
        "iterations = range(0,26)\n",
        "chars = 'abcdefghijklmnopqrstuvwxyz'\n",
        "nums = range(1, 27)\n",
        "for i,c, n in zip(iterations,chars, nums):\n",
        "    print(f\"{i},  Let's assume {c} represents {n}.\")"
      ]
    },
    {
      "cell_type": "markdown",
      "metadata": {
        "id": "revk7WGs4jq7"
      },
      "source": [
        "### 迭代字典中的元素"
      ]
    },
    {
      "cell_type": "code",
      "execution_count": null,
      "metadata": {
        "id": "J1W_JB9H4jq7",
        "outputId": "c877b7fc-3a44-4300-d303-a25da82f4310"
      },
      "outputs": [
        {
          "name": "stdout",
          "output_type": "stream",
          "text": [
            "ann 6585\n",
            "bob 8982\n",
            "joe 2598\n",
            "zoe 1225\n"
          ]
        }
      ],
      "source": [
        "phonebook1 = {'ann':6575, 'bob':8982, 'joe':2598, 'zoe':1225, 'ann':6585}\n",
        "\n",
        "for key in phonebook1:\n",
        "    print(key, phonebook1[key])"
      ]
    },
    {
      "cell_type": "code",
      "execution_count": null,
      "metadata": {
        "id": "St9uKeok4jq7",
        "outputId": "0e7665ae-d62f-4aa4-c264-ccf6c6245b34"
      },
      "outputs": [
        {
          "name": "stdout",
          "output_type": "stream",
          "text": [
            "ann 6585\n",
            "bob 8982\n",
            "joe 2598\n",
            "zoe 1225\n"
          ]
        }
      ],
      "source": [
        "phonebook1 = {'ann':6575, 'bob':8982, 'joe':2598, 'zoe':1225, 'ann':6585}\n",
        "\n",
        "for key, value in phonebook1.items():\n",
        "    print(key, value)"
      ]
    },
    {
      "cell_type": "markdown",
      "metadata": {
        "id": "nRfh-56R4jq7"
      },
      "source": [
        "## 总结"
      ]
    },
    {
      "cell_type": "markdown",
      "metadata": {
        "id": "f7wJHIvN4jq7"
      },
      "source": [
        "这一章的内容，只不过是 “多” 而已，一旦逻辑关系理顺，就会觉得很简单。而这一章的开头，已经是最好的总结了。\n",
        "\n",
        "最后需要补充的，只是两个参考链接，以后有什么搞不明白的地方，去那里翻翻就能找到答案：\n",
        "\n",
        "> * https://docs.python.org/3/tutorial/datastructures.html#dictionaries\n",
        "> * https://docs.python.org/3/library/stdtypes.html#typesmapping"
      ]
    },
    {
      "cell_type": "markdown",
      "metadata": {
        "id": "KTPqGzuL4jq7"
      },
      "source": [
        "<a href=\"./Part.1.E.7.files.ipynb\" ><small>Next Page</small></a>"
      ]
    }
  ],
  "metadata": {
    "kernelspec": {
      "display_name": "Python 3",
      "language": "python",
      "name": "python3"
    },
    "language_info": {
      "codemirror_mode": {
        "name": "ipython",
        "version": 3
      },
      "file_extension": ".py",
      "mimetype": "text/x-python",
      "name": "python",
      "nbconvert_exporter": "python",
      "pygments_lexer": "ipython3",
      "version": "3.8.3"
    },
    "toc-autonumbering": true,
    "colab": {
      "provenance": [],
      "toc_visible": true
    }
  },
  "nbformat": 4,
  "nbformat_minor": 0
}